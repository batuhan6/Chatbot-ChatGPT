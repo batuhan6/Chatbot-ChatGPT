{
  "nbformat": 4,
  "nbformat_minor": 0,
  "metadata": {
    "colab": {
      "provenance": [],
      "authorship_tag": "ABX9TyNDPCd8mXGLfhfCMpBKAehM",
      "include_colab_link": true
    },
    "kernelspec": {
      "name": "python3",
      "display_name": "Python 3"
    },
    "language_info": {
      "name": "python"
    }
  },
  "cells": [
    {
      "cell_type": "markdown",
      "metadata": {
        "id": "view-in-github",
        "colab_type": "text"
      },
      "source": [
        "<a href=\"https://colab.research.google.com/github/batuhan6/Chatbot-ChatGPT/blob/main/Chatbot_ChatGPT.ipynb\" target=\"_parent\"><img src=\"https://colab.research.google.com/assets/colab-badge.svg\" alt=\"Open In Colab\"/></a>"
      ]
    },
    {
      "cell_type": "markdown",
      "source": [
        "# Import Libraries and Define the OpenAI API Key"
      ],
      "metadata": {
        "id": "dWfA0WY76yx_"
      }
    },
    {
      "cell_type": "code",
      "source": [
        "! pip install openai --upgrade"
      ],
      "metadata": {
        "id": "uNpgQ7660I61"
      },
      "execution_count": null,
      "outputs": []
    },
    {
      "cell_type": "code",
      "source": [
        "! pip install openai==0.28"
      ],
      "metadata": {
        "id": "GkSXRPff0MgS"
      },
      "execution_count": null,
      "outputs": []
    },
    {
      "cell_type": "code",
      "source": [
        "import openai\n",
        "import os\n",
        "\n",
        "# Define OpenAI API key\n",
        "openai.api_key = \" \" #password retracted"
      ],
      "metadata": {
        "id": "1-RHpY3B7TZo"
      },
      "execution_count": null,
      "outputs": []
    },
    {
      "cell_type": "markdown",
      "source": [
        "# Define the Chatbot Conversation Function"
      ],
      "metadata": {
        "id": "pV0EV_ef7gv2"
      }
    },
    {
      "cell_type": "code",
      "source": [
        "def chatbot_conversation(initial_prompt):\n",
        "    # Initialize conversation with initial prompt\n",
        "    prompt = initial_prompt\n",
        "\n",
        "    # Continiously interact the user until they end the conversation\n",
        "    while True:\n",
        "        # Get user input\n",
        "        user_input = input(\"User: \")\n",
        "        # Send user input and current prompt to ChatGPT API and receive response\n",
        "        response = openai.Completion.create(\n",
        "        # This engine is specifically designed and generate natural language text(instruction-following text)\n",
        "        engine = \"text-davinci-003\",\n",
        "        prompt = prompt + \"\\\\nUser: \" + user_input,\n",
        "        # Insert the temperature here\n",
        "        temperature = 0.7 ,\n",
        "        # Insert the number of tokens here\n",
        "        max_tokens = 1024\n",
        "    )\n",
        "\n",
        "    # Extract and diplay ChatGPT's response\n",
        "    chatbot_response = response.choices[0].text\n",
        "    print(\"Chatbot:\", chatbot_response)\n",
        "\n",
        "    # Update prompt for next iteration\n",
        "    prompt = prompt + \"\\\\nChatbot: \" + chatbot_response + \"\\n\""
      ],
      "metadata": {
        "id": "BwsFiZS47ZC7"
      },
      "execution_count": null,
      "outputs": []
    },
    {
      "cell_type": "markdown",
      "source": [
        "# Handle Frequently Asked Questions"
      ],
      "metadata": {
        "id": "o2VxFMg_8LHh"
      }
    },
    {
      "cell_type": "markdown",
      "source": [
        "## Handling FAQs for Product Information"
      ],
      "metadata": {
        "id": "unm57bZq8LjO"
      }
    },
    {
      "cell_type": "code",
      "source": [
        "def product_information_faq(user_input):\n",
        "    # Identity product-related keywords in user input\n",
        "    product_keywords = [\"product\",\"item\",\"details\",\"features\",\"specifications\",\"capabilities\", \"quantity\", \"quality\"]\n",
        "    for keyword in product_keywords:\n",
        "        if keyword in user_input.lower():\n",
        "            # Provide relevant product information based on users's query\n",
        "            print(\"Please specify the product you are interested in and I'll provide more details.\")\n",
        "            product_name = input(\"Product name: \")\n",
        "            # Use product_name to retrieve and display product information from a database or API\n",
        "            print(\"Product information for \" + product_name + \":\")\n"
      ],
      "metadata": {
        "id": "yebeNj948gGW"
      },
      "execution_count": null,
      "outputs": []
    },
    {
      "cell_type": "markdown",
      "source": [
        "## Handling FAQs for Customer Support"
      ],
      "metadata": {
        "id": "5rIuNSCP6yNA"
      }
    },
    {
      "cell_type": "code",
      "source": [
        "def customer_support_faq(user_input):\n",
        "    # identify customer support keywords in user input.\n",
        "    support_keywords=[\"help\",\"issue\",\"problem\",\"assistance\",\"support\", \"questions\", \"doubts\"]\n",
        "    returns_keywords=[\"return\",\"refund\",\"exchange\",\"policy\"]\n",
        "\n",
        "    for keyword in support_keywords:\n",
        "        if keyword in user_input.lower():\n",
        "            # Provide relevant customer support assistance.\n",
        "            print(\"Please describe your problem so that we can assist you.\")\n",
        "            user_issue = input(\"Description of issue: \")\n",
        "            # Use user issue to identify and resolve the user's problem or direct them to relevant support resources.\n",
        "            print(\"We are here to help. Please provide more details about your issue.\")"
      ],
      "metadata": {
        "id": "yqX6vB0c8oFb"
      },
      "execution_count": null,
      "outputs": []
    },
    {
      "cell_type": "markdown",
      "source": [
        "# Initiate Chatbot Conversation and Testing"
      ],
      "metadata": {
        "id": "omFvOOaN8ruB"
      }
    },
    {
      "cell_type": "code",
      "source": [
        "# Start the chatbot conversation with a welcome message\n",
        "print(\"welcome to our customer service chatbot. How can I help you?\")\n",
        "\n",
        "# Initialize conversation with an empty prompt\n",
        "prompt = \"\"\n",
        "\n",
        "# Continiously interact with the user and handle their queries\n",
        "while True:\n",
        "    user_input = input(\"User: \")\n",
        "\n",
        "    # Check if the user wants to end the conversation\n",
        "    if user_input.lower() == \"bye\" or user_input.lower() == \"quit\":\n",
        "        print(\"Thank you for using our chatbot. Have a great day!\")\n",
        "        break\n",
        "\n",
        "    # Construct the prompt for ChatGPT API.\n",
        "    prompt += \"\\nUser: \" + user_input\n",
        "\n",
        "    # Send user input and current prompt to ChatGPT API and receive response\n",
        "    response = openai.Completion.create(\n",
        "        engine = \"text-davinci-003\",\n",
        "        prompt = prompt,\n",
        "        temperature = 0.7,\n",
        "        max_tokens = 1024\n",
        "    )\n",
        "\n",
        "    # Extract and display ChatGPT's response\n",
        "    chatbot_response = response.choices[0].text\n",
        "\n",
        "    # Skip empty responses\n",
        "    if not chatbot_response:\n",
        "        continue\n",
        "\n",
        "    # Update prompt for next iteration\n",
        "    prompt += \"\\\\nChatbot: \" + chatbot_response + \"\\\\n\""
      ],
      "metadata": {
        "id": "_22dARkb8ubz"
      },
      "execution_count": null,
      "outputs": []
    },
    {
      "cell_type": "markdown",
      "source": [
        "# Build a Customize Chatbot and Chat with it"
      ],
      "metadata": {
        "id": "mNFbl2di9sba"
      }
    },
    {
      "cell_type": "code",
      "source": [
        "# Import the Openai library\n",
        "import openai\n",
        "\n",
        "# Start the chapbot conversation with a welcome message\n",
        "print(\"Welcome to our ecommerce customer service chatbot. How can I assist you with your home appliance queries today?\")\n",
        "\n",
        "# Initialize conversation with a system message to set the context for ChatGPT\n",
        "prompt = \"System: You are a customer service AI knowlegable about customer services in product X.\\\\n\"\n",
        "\n",
        "# Continiously interact with the user and handle their queries\n",
        "while True:\n",
        "    user_input = input(\"User: \")\n",
        "\n",
        "    # Check if the user wants to end the conversation\n",
        "    if user_input.lower() in [\"bye\", \"quit\"]:\n",
        "        print(\"Thank you for using our chatbot. Have a great day!\")\n",
        "        break\n",
        "\n",
        "    # Add user input to prompt\n",
        "    prompt += \"User: \" + \"user_input\" + \"\\\\n\"\n",
        "\n",
        "    # Send user input and user prompt to ChatGPT API and receive response\n",
        "     response = openai.Completion.create(\n",
        "        engine = \"text-davinci-003\",\n",
        "        prompt = prompt,\n",
        "        temperature = 0.7,\n",
        "        max_tokens = 150,\n",
        "        stop = [\"\\\\n\", \"User:\",\"System:\"]\n",
        "    )\n",
        "\n",
        "     # Extract and display ChatGPT's response\n",
        "    chatbot_response = response.choices[0].text.strip()\n",
        "\n",
        "    # Skip empty responses\n",
        "    if not chatbot_response:\n",
        "        continue\n",
        "\n",
        "    # Check if the users query is of the topic.\n",
        "    if \"home appliance\" not in user_input.lower() and any(word in chatbot_response.lower() for word in [\"sorry\", \"don't know\", \"not sure\"]):\n",
        "        print(\"Chatbot: I'm sorry. I am specialize in home appliances. Could you please ask something related to that topic? \")\n",
        "    else:\n",
        "        print(\"Chatbot: \", chatbot_response)\n",
        "\n",
        "\n",
        "    # Update prompt for next iteration\n",
        "    prompt += \"\\nChatbot: \" + chatbot_response + \"\\n\"\n",
        "\n"
      ],
      "metadata": {
        "id": "bpWF3ukt9zwM"
      },
      "execution_count": null,
      "outputs": []
    }
  ]
}